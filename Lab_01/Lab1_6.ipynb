{
 "cells": [
  {
   "cell_type": "markdown",
   "id": "ec6e7d18-6a6e-4a51-a7cd-0a1152604973",
   "metadata": {
    "id": "ec6e7d18-6a6e-4a51-a7cd-0a1152604973"
   },
   "source": [
    "## Лабораторная работа №1 | Вариант 6"
   ]
  },
  {
   "cell_type": "markdown",
   "id": "277877ce-f982-4711-a6a6-2a4a90871409",
   "metadata": {
    "id": "277877ce-f982-4711-a6a6-2a4a90871409"
   },
   "source": [
    "Выполнил: Мирошников Дмитрий, М8О-310Б-22"
   ]
  },
  {
   "cell_type": "markdown",
   "id": "031f025d-84dc-470f-b839-456a76d9636b",
   "metadata": {
    "id": "031f025d-84dc-470f-b839-456a76d9636b"
   },
   "source": [
    "### 1. Numpy"
   ]
  },
  {
   "cell_type": "code",
   "id": "8a2c6f8d-e85b-4982-ba6d-77ffdb7d53e8",
   "metadata": {
    "id": "8a2c6f8d-e85b-4982-ba6d-77ffdb7d53e8",
    "ExecuteTime": {
     "end_time": "2024-09-24T11:57:39.806288Z",
     "start_time": "2024-09-24T11:57:39.783277Z"
    }
   },
   "source": [
    "import numpy as np"
   ],
   "outputs": [],
   "execution_count": 1
  },
  {
   "cell_type": "markdown",
   "id": "6ff3559d-5f3e-4540-9a31-bfb9f42a23da",
   "metadata": {
    "id": "6ff3559d-5f3e-4540-9a31-bfb9f42a23da"
   },
   "source": [
    "1. Создайте единичную матрицу размером 3х3"
   ]
  },
  {
   "cell_type": "code",
   "id": "752bc586-1e3f-4085-85c3-4068b781314f",
   "metadata": {
    "colab": {
     "base_uri": "https://localhost:8080/"
    },
    "id": "752bc586-1e3f-4085-85c3-4068b781314f",
    "outputId": "0a355081-c3b8-414d-802a-e0aab3e0eed0",
    "ExecuteTime": {
     "end_time": "2024-09-18T21:34:41.633067Z",
     "start_time": "2024-09-18T21:34:41.611068Z"
    }
   },
   "source": [
    "arr = np.eye(3)\n",
    "print(arr)"
   ],
   "outputs": [
    {
     "name": "stdout",
     "output_type": "stream",
     "text": [
      "[[1. 0. 0.]\n",
      " [0. 1. 0.]\n",
      " [0. 0. 1.]]\n"
     ]
    }
   ],
   "execution_count": 2
  },
  {
   "cell_type": "markdown",
   "id": "0243a0f6-1905-4e2d-9572-9ba49dc003a8",
   "metadata": {
    "id": "0243a0f6-1905-4e2d-9572-9ba49dc003a8"
   },
   "source": [
    "2. Создайте матрицу 5х5 со значениями 1, 2, 3, 4 ниже диагонали"
   ]
  },
  {
   "cell_type": "code",
   "id": "ec6ae581-5adf-459c-bdc7-8b015d9529f6",
   "metadata": {
    "colab": {
     "base_uri": "https://localhost:8080/"
    },
    "id": "ec6ae581-5adf-459c-bdc7-8b015d9529f6",
    "outputId": "42c062b1-4010-4123-dfb0-e7c402efe5d8",
    "ExecuteTime": {
     "end_time": "2024-09-24T12:47:53.230159Z",
     "start_time": "2024-09-24T12:47:53.209Z"
    }
   },
   "source": [
    "arr = np.diag([1, 2, 3, 4], -1)\n",
    "print(arr)"
   ],
   "outputs": [
    {
     "name": "stdout",
     "output_type": "stream",
     "text": [
      "[[0 0 0 0 0]\n",
      " [1 0 0 0 0]\n",
      " [0 2 0 0 0]\n",
      " [0 0 3 0 0]\n",
      " [0 0 0 4 0]]\n"
     ]
    }
   ],
   "execution_count": 64
  },
  {
   "cell_type": "markdown",
   "id": "8c7d3811-a555-4c02-ada8-e4a70b9dee46",
   "metadata": {
    "id": "8c7d3811-a555-4c02-ada8-e4a70b9dee46"
   },
   "source": [
    "3. Какой выход будет у данного скрипта\n",
    "\n",
    "```python\n",
    "# Author: Jake VanderPlas\n",
    "\n",
    "print(sum(range(5),-1))\n",
    "from numpy import *\n",
    "print(sum(range(5),-1))\n",
    "```"
   ]
  },
  {
   "cell_type": "code",
   "execution_count": null,
   "id": "12d0ed34-908c-4840-8b81-457e64dd7b0b",
   "metadata": {
    "id": "12d0ed34-908c-4840-8b81-457e64dd7b0b"
   },
   "outputs": [],
   "source": [
    "9\n",
    "10"
   ]
  },
  {
   "cell_type": "markdown",
   "id": "b7ca56e6-a194-4c42-b8a2-307fcf40f648",
   "metadata": {
    "id": "b7ca56e6-a194-4c42-b8a2-307fcf40f648"
   },
   "source": [
    "4. Как найти самое часто встречаемое значение между двумя массивами?"
   ]
  },
  {
   "cell_type": "code",
   "execution_count": null,
   "id": "1b1d64cd-0e28-400f-8d49-a1274947e150",
   "metadata": {
    "colab": {
     "base_uri": "https://localhost:8080/"
    },
    "id": "1b1d64cd-0e28-400f-8d49-a1274947e150",
    "outputId": "69d79c45-07a1-45fc-b03f-98061a21cfcb"
   },
   "outputs": [
    {
     "output_type": "stream",
     "name": "stdout",
     "text": [
      "Array 1:  [7 3 8 9 3 6 3 2 9 9]\n",
      "Array 2:  [7 9 7 8 7 6 1 1 6 9]\n",
      "Common values array:  [6 7 8 9]\n",
      "Concatenared array:  [7 3 8 9 3 6 3 2 9 9 7 9 7 8 7 6 1 1 6 9]\n",
      "Masked concatenated array:  [7 8 9 6 9 9 7 9 7 8 7 6 6 9]\n",
      "Answer:  9\n"
     ]
    }
   ],
   "source": [
    "#Создадим массивы из 10 случайных целых чисел от 1 до 10\n",
    "arr1 = np.random.randint(1, 10, 10)\n",
    "arr2 = np.random.randint(1, 10, 10)\n",
    "\n",
    "print(\"Array 1: \", arr1)\n",
    "print(\"Array 2: \", arr2)\n",
    "\n",
    "#Если массивы n-мерные, то используем np.flatten() для преобразования в 1-мерные\n",
    "\n",
    "#Находим пересечение двух массивов\n",
    "common_values = np.intersect1d(arr1, arr2)\n",
    "print(\"Common values array: \", common_values)\n",
    "\n",
    "#Выполним конкатенацию массивов\n",
    "concatenated_array = np.concatenate([arr1, arr2])\n",
    "print(\"Concatenared array: \", concatenated_array)\n",
    "\n",
    "#C помощью маскирования оставим в полученном массиве только значения из\n",
    "#common_values\n",
    "mask = np.isin(concatenated_array, common_values)\n",
    "masked_concatenated_array = concatenated_array[mask]\n",
    "print(\"Masked concatenated array: \", masked_concatenated_array)\n",
    "\n",
    "#Получим уникальные значения и количество их повторений\n",
    "unique_values, counts = np.unique(masked_concatenated_array, return_counts=True)\n",
    "\n",
    "#Найдём индекс элемента с максимальным количеством повторений\n",
    "max_count_index = np.argmax(counts)\n",
    "\n",
    "#Получим ответ\n",
    "print(\"Answer: \", unique_values[max_count_index])"
   ]
  },
  {
   "cell_type": "markdown",
   "id": "b3b2cd1e-e996-45e0-b9ed-e12ce653a9c3",
   "metadata": {
    "id": "b3b2cd1e-e996-45e0-b9ed-e12ce653a9c3"
   },
   "source": [
    "5. Как игнорировать все warnings в numpy(не нужно так делать, но покажи)?"
   ]
  },
  {
   "cell_type": "code",
   "execution_count": 103,
   "id": "c40ef785-d750-42ba-ac6e-b777866202a6",
   "metadata": {
    "colab": {
     "base_uri": "https://localhost:8080/"
    },
    "id": "c40ef785-d750-42ba-ac6e-b777866202a6",
    "outputId": "d6e2a1bd-6032-4b73-9819-e10dddd9df61"
   },
   "outputs": [
    {
     "output_type": "execute_result",
     "data": {
      "text/plain": [
       "{'divide': 'warn', 'over': 'warn', 'under': 'ignore', 'invalid': 'warn'}"
      ]
     },
     "metadata": {},
     "execution_count": 103
    }
   ],
   "source": [
    "import warnings\n",
    "\n",
    "warnings.filterwarnings('ignore', category=np.VisibleDeprecationWarning)\n",
    "warnings.filterwarnings('ignore', category=np.ComplexWarning)\n",
    "\n",
    "np.seterr(all='ignore')"
   ]
  },
  {
   "cell_type": "markdown",
   "id": "8108b3a8-5ba8-472d-ad6b-095ade8678ef",
   "metadata": {
    "id": "8108b3a8-5ba8-472d-ad6b-095ade8678ef"
   },
   "source": [
    "6. Реализуем функцию-генератор, которая генерирует 10 целых чисел и используем ее для построения массива"
   ]
  },
  {
   "cell_type": "code",
   "execution_count": null,
   "id": "89b58c0a-bd5d-435a-be45-719fdfce662a",
   "metadata": {
    "colab": {
     "base_uri": "https://localhost:8080/"
    },
    "id": "89b58c0a-bd5d-435a-be45-719fdfce662a",
    "outputId": "12811345-bb0d-4c02-b387-275890c8b7d0"
   },
   "outputs": [
    {
     "output_type": "stream",
     "name": "stdout",
     "text": [
      "[744 428 214 599 520 148 560 864 530 571]\n"
     ]
    }
   ],
   "source": [
    "def generate_array():\n",
    "  for _ in range(10):\n",
    "    yield np.random.randint(1000)\n",
    "\n",
    "numbers = np.fromiter(generate_array(), dtype=int)\n",
    "print(numbers)"
   ]
  },
  {
   "cell_type": "markdown",
   "id": "98511652-db85-4506-a5b8-f94b05d35ce9",
   "metadata": {
    "id": "98511652-db85-4506-a5b8-f94b05d35ce9"
   },
   "source": [
    "7. Создайте массив случайных чисел размером 10 и отсортируйте его"
   ]
  },
  {
   "cell_type": "code",
   "execution_count": null,
   "id": "ca72cdb0-ed24-460d-81a9-220b850d62c3",
   "metadata": {
    "colab": {
     "base_uri": "https://localhost:8080/"
    },
    "id": "ca72cdb0-ed24-460d-81a9-220b850d62c3",
    "outputId": "fe0063e8-35f7-4e71-9218-9f5a6cca8cb4"
   },
   "outputs": [
    {
     "output_type": "stream",
     "name": "stdout",
     "text": [
      "[-7.21362126 -0.14854434  4.8157197   7.79832684 -7.32522378  3.61705163\n",
      "  4.75798551 -5.94953407  8.79969642  7.42729005]\n",
      "\n",
      " [-7.32522378 -7.21362126 -5.94953407 -0.14854434  3.61705163  4.75798551\n",
      "  4.8157197   7.42729005  7.79832684  8.79969642]\n"
     ]
    }
   ],
   "source": [
    "array = np.random.uniform(-10, 10, size=10)\n",
    "print(array)\n",
    "\n",
    "array = np.sort(array)\n",
    "print(\"\\n\", array)"
   ]
  },
  {
   "cell_type": "markdown",
   "id": "1412a70a-2a1e-406e-a227-afc9a47ed659",
   "metadata": {
    "id": "1412a70a-2a1e-406e-a227-afc9a47ed659"
   },
   "source": [
    "8. Создайте случайную матрицу 10х2 которая представляет собой декартовые координаты и преобразуйте их в полярные"
   ]
  },
  {
   "cell_type": "code",
   "execution_count": null,
   "id": "22bb8bbf-52dd-4d3c-86c0-c4e9637b909b",
   "metadata": {
    "colab": {
     "base_uri": "https://localhost:8080/"
    },
    "id": "22bb8bbf-52dd-4d3c-86c0-c4e9637b909b",
    "outputId": "f3907f10-d27f-4ed9-e161-384a86822c13"
   },
   "outputs": [
    {
     "output_type": "stream",
     "name": "stdout",
     "text": [
      "Декартовы координаты:\n",
      "[[-6.38892112  8.08739125]\n",
      " [ 3.39222808  9.75973077]\n",
      " [-9.15019877 -1.19192581]\n",
      " [ 4.84360573  3.47300522]\n",
      " [ 3.82994315  0.62074306]\n",
      " [ 6.34589121  2.19691635]\n",
      " [ 3.10499907  6.19352319]\n",
      " [ 8.47609942 -4.14756301]\n",
      " [-4.19160235  5.84637453]\n",
      " [-4.36143165 -5.37469305]]\n",
      "\n",
      "Полярные координаты: \n",
      "[[  10.306513    128.308221  ]\n",
      " [  10.3324516    70.83388075]\n",
      " [   9.22750371 -172.57831021]\n",
      " [   5.96005719   35.64161626]\n",
      " [   3.87992094    9.20623364]\n",
      " [   6.71541337   19.09560196]\n",
      " [   6.92825727   63.37401787]\n",
      " [   9.43644744  -26.07363534]\n",
      " [   7.19372125  125.63891671]\n",
      " [   6.92166248 -129.05848279]]\n"
     ]
    }
   ],
   "source": [
    "cartesian_coords = np.random.uniform(-10, 10, size=(10, 2))\n",
    "\n",
    "print(\"Декартовы координаты:\")\n",
    "print(cartesian_coords)\n",
    "\n",
    "polar_coords = np.zeros_like(cartesian_coords)\n",
    "\n",
    "#Вычисляем полярные радиусы\n",
    "polar_coords[:, 0] = np.sqrt(\n",
    "    cartesian_coords[:, 0]**2 + cartesian_coords[:, 1]**2\n",
    ")\n",
    "\n",
    "#Вычисляем полярные углы, будем хранить их в градусах\n",
    "polar_coords[:, 1] = np.arctan2(\n",
    "    cartesian_coords[:, 1], cartesian_coords[:, 0]\n",
    ") * 180 / np.pi\n",
    "\n",
    "print(\"\\nПолярные координаты: \")\n",
    "print(polar_coords)"
   ]
  },
  {
   "cell_type": "markdown",
   "id": "f7dc66bf-f7c8-4d78-834b-451651f6839a",
   "metadata": {
    "id": "f7dc66bf-f7c8-4d78-834b-451651f6839a"
   },
   "source": [
    "9. Создайте структурированный массив который будет описывать пиксель(координату x, y и цвет r,g,b)"
   ]
  },
  {
   "cell_type": "code",
   "execution_count": null,
   "id": "0ecf5586-d30e-4256-ab93-7ff9bab0b34b",
   "metadata": {
    "id": "0ecf5586-d30e-4256-ab93-7ff9bab0b34b",
    "colab": {
     "base_uri": "https://localhost:8080/"
    },
    "outputId": "bc8e8e62-568e-4a16-8c77-a19903122662"
   },
   "outputs": [
    {
     "output_type": "stream",
     "name": "stdout",
     "text": [
      "[(141, 395, 106,  57, 217) ( 86, 416,  62, 105, 215)\n",
      " (388, 417, 211,  80,  33)]\n"
     ]
    }
   ],
   "source": [
    "pixel_dtype = [('x', int), ('y', int), ('r', 'u1'), ('g', 'u1'), ('b', 'u1')]\n",
    "\n",
    "pixels = np.empty(3, dtype = pixel_dtype)\n",
    "\n",
    "def rand_coords(n: int, max_value: int):\n",
    "  return np.random.randint(0, max_value, n)\n",
    "\n",
    "def rand_bytes(n: int):\n",
    "  return np.random.randint(0, 255, n)\n",
    "\n",
    "pixels['x'] = rand_coords(3, 720)\n",
    "pixels['y'] = rand_coords(3, 576)\n",
    "pixels['r'] = rand_bytes(3)\n",
    "pixels['g'] = rand_bytes(3)\n",
    "pixels['b'] = rand_bytes(3)\n",
    "\n",
    "print(pixels)"
   ]
  },
  {
   "cell_type": "markdown",
   "id": "a66194f1-0099-4808-8ebf-5cf10eee5071",
   "metadata": {
    "id": "a66194f1-0099-4808-8ebf-5cf10eee5071"
   },
   "source": [
    "10. Как конвертировать тип массив от float32 в int32 in place?"
   ]
  },
  {
   "cell_type": "code",
   "execution_count": null,
   "id": "07ed452c-3f7c-40a7-a5b5-716602a5eed9",
   "metadata": {
    "colab": {
     "base_uri": "https://localhost:8080/"
    },
    "id": "07ed452c-3f7c-40a7-a5b5-716602a5eed9",
    "outputId": "2b058d89-1947-47ce-9c90-9870c629f577"
   },
   "outputs": [
    {
     "output_type": "stream",
     "name": "stdout",
     "text": [
      "Массив float32: \n",
      "[100.      200.        0.234   123.73872]\n",
      "\n",
      "Массив int32: \n",
      "[100 200   0 123]\n"
     ]
    }
   ],
   "source": [
    "array = np.array([100., 200., 0.234, 123.73872])\n",
    "print(\"Массив float32: \")\n",
    "print(array)\n",
    "\n",
    "array = array.astype(np.int32, copy=False)\n",
    "print(\"\\nМассив int32: \")\n",
    "print(array)"
   ]
  },
  {
   "cell_type": "markdown",
   "id": "5bd0f757-bb01-4afb-b4f0-6821b5c5b2b7",
   "metadata": {
    "id": "5bd0f757-bb01-4afb-b4f0-6821b5c5b2b7"
   },
   "source": [
    "### 2. Pandas"
   ]
  },
  {
   "cell_type": "markdown",
   "id": "bdffd013-e573-4318-8062-65ae1c5e07e8",
   "metadata": {
    "id": "bdffd013-e573-4318-8062-65ae1c5e07e8"
   },
   "source": [
    "Найдите ответы на вопросы или выполните действия с предложенным датасетом\n",
    "\n",
    "Набор данных описывает эффективность учеников в зависимости от некоторых факторов влияющих на обучение и окружение человека.\n",
    "\n",
    "Файл: `student_perfomance.csv`\n",
    "\n",
    "```\n",
    "Hours_Studied - количество часов затраченное на обучение в неделю\n",
    "Attendance - поцент посещенных занятий\n",
    "Parental_Involvement - уровень участия родителей в обучении учащегося\n",
    "Access_to_Resources - доступность ресурсов для обучения\n",
    "Extracurricular_Activities - участие во внеклассных мероприятиях\n",
    "Sleep_Hours - количество часов выделяемое на сон в день\n",
    "Previous_Scores - оценка за первый экзамен\n",
    "Motivation_Level - уровень мотивации\n",
    "Internet_Access - доступ к интернету\n",
    "Tutoring_Sessions - количество посещаемых репетиторских занятий в месяц.\n",
    "Family_Income - доход семьи\n",
    "Teacher_Quality - насколько качественно преподает учитель\n",
    "School_Type - тип школы(частная, обычная)\n",
    "Peer_Influence - влияние сверстников\n",
    "Physical_Activity - физическая активность\n",
    "Learning_Disabilities - наличие проблем с обучаемостью\n",
    "Parental_Education_Level - уровень образования родителей\n",
    "Distance_from_Home - дистанция от дома до школы\n",
    "Gender - пол\n",
    "Exam_Score - оценка на конечном экзамене\n",
    "```"
   ]
  },
  {
   "cell_type": "code",
   "id": "0778ec2b-a7b2-4738-b771-bb1781986f62",
   "metadata": {
    "id": "0778ec2b-a7b2-4738-b771-bb1781986f62",
    "ExecuteTime": {
     "end_time": "2024-09-24T12:01:33.020512Z",
     "start_time": "2024-09-24T12:01:33.010526Z"
    }
   },
   "source": [
    "import pandas as pd"
   ],
   "outputs": [],
   "execution_count": 6
  },
  {
   "cell_type": "code",
   "id": "bfc45614-d44b-49bd-a55c-c410a95a808f",
   "metadata": {
    "colab": {
     "base_uri": "https://localhost:8080/",
     "height": 226
    },
    "id": "bfc45614-d44b-49bd-a55c-c410a95a808f",
    "outputId": "b372da47-16d9-493d-a052-4cb0402b027d",
    "ExecuteTime": {
     "end_time": "2024-09-24T12:01:35.027578Z",
     "start_time": "2024-09-24T12:01:34.914591Z"
    }
   },
   "source": [
    "DATA_PATH = \"D:\\PythonLearn\\ML-Labs\\Lab_01\\data\\student_perfomance.csv\"\n",
    "df = pd.read_csv(DATA_PATH)\n",
    "df.head()"
   ],
   "outputs": [
    {
     "data": {
      "text/plain": [
       "   Hours_Studied  Attendance Parental_Involvement Access_to_Resources  \\\n",
       "0             23          84                  Low                High   \n",
       "1             19          64                  Low              Medium   \n",
       "2             24          98               Medium              Medium   \n",
       "3             29          89                  Low              Medium   \n",
       "4             19          92               Medium              Medium   \n",
       "\n",
       "  Extracurricular_Activities  Sleep_Hours  Previous_Scores Motivation_Level  \\\n",
       "0                         No            7               73              Low   \n",
       "1                         No            8               59              Low   \n",
       "2                        Yes            7               91           Medium   \n",
       "3                        Yes            8               98           Medium   \n",
       "4                        Yes            6               65           Medium   \n",
       "\n",
       "  Internet_Access  Tutoring_Sessions Family_Income Teacher_Quality  \\\n",
       "0             Yes                  0           Low          Medium   \n",
       "1             Yes                  2        Medium          Medium   \n",
       "2             Yes                  2        Medium          Medium   \n",
       "3             Yes                  1        Medium          Medium   \n",
       "4             Yes                  3        Medium            High   \n",
       "\n",
       "  School_Type Peer_Influence  Physical_Activity Learning_Disabilities  \\\n",
       "0      Public       Positive                  3                    No   \n",
       "1      Public       Negative                  4                    No   \n",
       "2      Public        Neutral                  4                    No   \n",
       "3      Public       Negative                  4                    No   \n",
       "4      Public        Neutral                  4                    No   \n",
       "\n",
       "  Parental_Education_Level Distance_from_Home  Gender  Exam_Score  \n",
       "0              High School               Near    Male          67  \n",
       "1                  College           Moderate  Female          61  \n",
       "2             Postgraduate               Near    Male          74  \n",
       "3              High School           Moderate    Male          71  \n",
       "4                  College               Near  Female          70  "
      ],
      "text/html": [
       "<div>\n",
       "<style scoped>\n",
       "    .dataframe tbody tr th:only-of-type {\n",
       "        vertical-align: middle;\n",
       "    }\n",
       "\n",
       "    .dataframe tbody tr th {\n",
       "        vertical-align: top;\n",
       "    }\n",
       "\n",
       "    .dataframe thead th {\n",
       "        text-align: right;\n",
       "    }\n",
       "</style>\n",
       "<table border=\"1\" class=\"dataframe\">\n",
       "  <thead>\n",
       "    <tr style=\"text-align: right;\">\n",
       "      <th></th>\n",
       "      <th>Hours_Studied</th>\n",
       "      <th>Attendance</th>\n",
       "      <th>Parental_Involvement</th>\n",
       "      <th>Access_to_Resources</th>\n",
       "      <th>Extracurricular_Activities</th>\n",
       "      <th>Sleep_Hours</th>\n",
       "      <th>Previous_Scores</th>\n",
       "      <th>Motivation_Level</th>\n",
       "      <th>Internet_Access</th>\n",
       "      <th>Tutoring_Sessions</th>\n",
       "      <th>Family_Income</th>\n",
       "      <th>Teacher_Quality</th>\n",
       "      <th>School_Type</th>\n",
       "      <th>Peer_Influence</th>\n",
       "      <th>Physical_Activity</th>\n",
       "      <th>Learning_Disabilities</th>\n",
       "      <th>Parental_Education_Level</th>\n",
       "      <th>Distance_from_Home</th>\n",
       "      <th>Gender</th>\n",
       "      <th>Exam_Score</th>\n",
       "    </tr>\n",
       "  </thead>\n",
       "  <tbody>\n",
       "    <tr>\n",
       "      <th>0</th>\n",
       "      <td>23</td>\n",
       "      <td>84</td>\n",
       "      <td>Low</td>\n",
       "      <td>High</td>\n",
       "      <td>No</td>\n",
       "      <td>7</td>\n",
       "      <td>73</td>\n",
       "      <td>Low</td>\n",
       "      <td>Yes</td>\n",
       "      <td>0</td>\n",
       "      <td>Low</td>\n",
       "      <td>Medium</td>\n",
       "      <td>Public</td>\n",
       "      <td>Positive</td>\n",
       "      <td>3</td>\n",
       "      <td>No</td>\n",
       "      <td>High School</td>\n",
       "      <td>Near</td>\n",
       "      <td>Male</td>\n",
       "      <td>67</td>\n",
       "    </tr>\n",
       "    <tr>\n",
       "      <th>1</th>\n",
       "      <td>19</td>\n",
       "      <td>64</td>\n",
       "      <td>Low</td>\n",
       "      <td>Medium</td>\n",
       "      <td>No</td>\n",
       "      <td>8</td>\n",
       "      <td>59</td>\n",
       "      <td>Low</td>\n",
       "      <td>Yes</td>\n",
       "      <td>2</td>\n",
       "      <td>Medium</td>\n",
       "      <td>Medium</td>\n",
       "      <td>Public</td>\n",
       "      <td>Negative</td>\n",
       "      <td>4</td>\n",
       "      <td>No</td>\n",
       "      <td>College</td>\n",
       "      <td>Moderate</td>\n",
       "      <td>Female</td>\n",
       "      <td>61</td>\n",
       "    </tr>\n",
       "    <tr>\n",
       "      <th>2</th>\n",
       "      <td>24</td>\n",
       "      <td>98</td>\n",
       "      <td>Medium</td>\n",
       "      <td>Medium</td>\n",
       "      <td>Yes</td>\n",
       "      <td>7</td>\n",
       "      <td>91</td>\n",
       "      <td>Medium</td>\n",
       "      <td>Yes</td>\n",
       "      <td>2</td>\n",
       "      <td>Medium</td>\n",
       "      <td>Medium</td>\n",
       "      <td>Public</td>\n",
       "      <td>Neutral</td>\n",
       "      <td>4</td>\n",
       "      <td>No</td>\n",
       "      <td>Postgraduate</td>\n",
       "      <td>Near</td>\n",
       "      <td>Male</td>\n",
       "      <td>74</td>\n",
       "    </tr>\n",
       "    <tr>\n",
       "      <th>3</th>\n",
       "      <td>29</td>\n",
       "      <td>89</td>\n",
       "      <td>Low</td>\n",
       "      <td>Medium</td>\n",
       "      <td>Yes</td>\n",
       "      <td>8</td>\n",
       "      <td>98</td>\n",
       "      <td>Medium</td>\n",
       "      <td>Yes</td>\n",
       "      <td>1</td>\n",
       "      <td>Medium</td>\n",
       "      <td>Medium</td>\n",
       "      <td>Public</td>\n",
       "      <td>Negative</td>\n",
       "      <td>4</td>\n",
       "      <td>No</td>\n",
       "      <td>High School</td>\n",
       "      <td>Moderate</td>\n",
       "      <td>Male</td>\n",
       "      <td>71</td>\n",
       "    </tr>\n",
       "    <tr>\n",
       "      <th>4</th>\n",
       "      <td>19</td>\n",
       "      <td>92</td>\n",
       "      <td>Medium</td>\n",
       "      <td>Medium</td>\n",
       "      <td>Yes</td>\n",
       "      <td>6</td>\n",
       "      <td>65</td>\n",
       "      <td>Medium</td>\n",
       "      <td>Yes</td>\n",
       "      <td>3</td>\n",
       "      <td>Medium</td>\n",
       "      <td>High</td>\n",
       "      <td>Public</td>\n",
       "      <td>Neutral</td>\n",
       "      <td>4</td>\n",
       "      <td>No</td>\n",
       "      <td>College</td>\n",
       "      <td>Near</td>\n",
       "      <td>Female</td>\n",
       "      <td>70</td>\n",
       "    </tr>\n",
       "  </tbody>\n",
       "</table>\n",
       "</div>"
      ]
     },
     "execution_count": 7,
     "metadata": {},
     "output_type": "execute_result"
    }
   ],
   "execution_count": 7
  },
  {
   "cell_type": "markdown",
   "id": "1026e8c6-513a-41e3-b2f4-68aae18b8435",
   "metadata": {
    "id": "1026e8c6-513a-41e3-b2f4-68aae18b8435"
   },
   "source": [
    "1. Посчитайте среднее кол-во часов уделяемое на сон студентами"
   ]
  },
  {
   "cell_type": "code",
   "execution_count": null,
   "id": "e74655aa-b97c-42e5-b972-e0753ddc2331",
   "metadata": {
    "colab": {
     "base_uri": "https://localhost:8080/"
    },
    "id": "e74655aa-b97c-42e5-b972-e0753ddc2331",
    "outputId": "a6bacafd-4b6c-4157-b458-5d59a46c6795"
   },
   "outputs": [
    {
     "output_type": "execute_result",
     "data": {
      "text/plain": [
       "7.029060087785682"
      ]
     },
     "metadata": {},
     "execution_count": 3
    }
   ],
   "source": [
    "df['Sleep_Hours'].mean()"
   ]
  },
  {
   "cell_type": "markdown",
   "id": "eee028a5-9311-4a4f-b4ac-1fb75acfb4b3",
   "metadata": {
    "id": "eee028a5-9311-4a4f-b4ac-1fb75acfb4b3"
   },
   "source": [
    "2. Сколько процентов студентов посещают внеклассовые активности?"
   ]
  },
  {
   "cell_type": "code",
   "execution_count": null,
   "id": "ac0fb641-96d2-4e7c-88d5-636ce3b699d2",
   "metadata": {
    "colab": {
     "base_uri": "https://localhost:8080/"
    },
    "id": "ac0fb641-96d2-4e7c-88d5-636ce3b699d2",
    "outputId": "10b1508e-ed27-4e5c-ff1f-6ac4953d6344"
   },
   "outputs": [
    {
     "output_type": "execute_result",
     "data": {
      "text/plain": [
       "59.60345088542455"
      ]
     },
     "metadata": {},
     "execution_count": 119
    }
   ],
   "source": [
    "df['Extracurricular_Activities'].value_counts()['Yes'] / df.shape[0] * 100"
   ]
  },
  {
   "cell_type": "markdown",
   "id": "cd7979ba-2fa8-4fd3-986d-26cee122da1f",
   "metadata": {
    "id": "cd7979ba-2fa8-4fd3-986d-26cee122da1f"
   },
   "source": [
    "3. Правда ли, что в среднем девушки сдают экзамены лучше, чем мужчины"
   ]
  },
  {
   "cell_type": "code",
   "id": "3915f77b-116c-482b-8644-2f5f11931af9",
   "metadata": {
    "colab": {
     "base_uri": "https://localhost:8080/"
    },
    "id": "3915f77b-116c-482b-8644-2f5f11931af9",
    "outputId": "245da843-572d-4f6b-9bbc-3a25ee51e95c",
    "ExecuteTime": {
     "end_time": "2024-09-18T21:39:13.188664Z",
     "start_time": "2024-09-18T21:39:13.156655Z"
    }
   },
   "source": [
    "women_df = df[df['Gender'] == 'Female']\n",
    "guy_df = df[df['Gender'] == 'Male']\n",
    "\n",
    "if (women_df['Previous_Scores'] + women_df['Exam_Score']).mean() > (guy_df['Previous_Scores'] + guy_df['Exam_Score']).mean():\n",
    "  print('Да')\n",
    "else:\n",
    "  print('Нет')"
   ],
   "outputs": [
    {
     "name": "stdout",
     "output_type": "stream",
     "text": [
      "Нет\n"
     ]
    }
   ],
   "execution_count": 10
  },
  {
   "cell_type": "markdown",
   "id": "1b69ba67-61a8-4765-9795-cfab1a09e929",
   "metadata": {
    "id": "1b69ba67-61a8-4765-9795-cfab1a09e929"
   },
   "source": [
    "4. Выведите 25 и 75 перцентили времени сна студентов"
   ]
  },
  {
   "cell_type": "code",
   "execution_count": null,
   "id": "1228d2e9-fc56-4240-95c6-c98a8b84c016",
   "metadata": {
    "colab": {
     "base_uri": "https://localhost:8080/"
    },
    "id": "1228d2e9-fc56-4240-95c6-c98a8b84c016",
    "outputId": "ad3f4a03-b91a-479d-996b-de234a7c84ea"
   },
   "outputs": [
    {
     "output_type": "stream",
     "name": "stdout",
     "text": [
      "6.0\n",
      "8.0\n"
     ]
    }
   ],
   "source": [
    "print(df['Sleep_Hours'].quantile(0.25))\n",
    "print(df['Sleep_Hours'].quantile(0.75))"
   ]
  },
  {
   "cell_type": "markdown",
   "id": "5acec4fd-f740-49a8-a5d8-562d358239c9",
   "metadata": {
    "id": "5acec4fd-f740-49a8-a5d8-562d358239c9"
   },
   "source": [
    "5. Правда ли, что те, кто спит больше(75 перцентиль и выше) сдает экзамен лучше, чем студенты с недосыпом(25 перцентиль и меньше)"
   ]
  },
  {
   "cell_type": "code",
   "id": "cac8daef-f4e8-4c8b-b7f4-d41a6adf35ed",
   "metadata": {
    "colab": {
     "base_uri": "https://localhost:8080/"
    },
    "id": "cac8daef-f4e8-4c8b-b7f4-d41a6adf35ed",
    "outputId": "4b1f6ef6-5f33-4785-acac-2245d2d4f431",
    "ExecuteTime": {
     "end_time": "2024-09-18T21:38:52.475998Z",
     "start_time": "2024-09-18T21:38:52.455707Z"
    }
   },
   "source": [
    "#В кач-ве единственного экзамена использую Exam_Score\n",
    "\n",
    "sleep_well_df = df[df['Sleep_Hours'] >= df['Sleep_Hours'].quantile(0.75)]\n",
    "sleep_bad_df = df[df['Sleep_Hours'] <= df['Sleep_Hours'].quantile(0.25)]\n",
    "\n",
    "if sleep_well_df['Exam_Score'].mean() > sleep_bad_df['Exam_Score'].mean():\n",
    "  print('Да')\n",
    "else:\n",
    "  print('Нет')"
   ],
   "outputs": [
    {
     "name": "stdout",
     "output_type": "stream",
     "text": [
      "Нет\n"
     ]
    }
   ],
   "execution_count": 9
  },
  {
   "cell_type": "markdown",
   "id": "8d6171a9-0f75-4f3e-ac54-95d03d1f70b6",
   "metadata": {
    "id": "8d6171a9-0f75-4f3e-ac54-95d03d1f70b6"
   },
   "source": [
    "6. Влияет ли физическая активность на результаты экзамена?"
   ]
  },
  {
   "cell_type": "code",
   "execution_count": 79,
   "id": "c64d0892-2fb8-4304-966c-5cbb32b03c0a",
   "metadata": {
    "colab": {
     "base_uri": "https://localhost:8080/"
    },
    "id": "c64d0892-2fb8-4304-966c-5cbb32b03c0a",
    "outputId": "4caa97df-4913-4f3e-ee44-f2f7238602e7"
   },
   "outputs": [
    {
     "output_type": "stream",
     "name": "stdout",
     "text": [
      "0.027824436180257445\n"
     ]
    }
   ],
   "source": [
    "#В качестве единственного экзамена использую Exam_Score\n",
    "\n",
    "correlation = df['Physical_Activity'].corr(df['Exam_Score'])\n",
    "print(correlation)\n",
    "\n",
    "#Значение коэффициента корреляции: 0.027824436180257445, имеем очень слабую положительную корреляцию\n",
    "\n",
    "#Вывод: не влияет"
   ]
  },
  {
   "cell_type": "markdown",
   "id": "d29320f9-aef8-452c-9d61-0afa72dd93b6",
   "metadata": {
    "id": "d29320f9-aef8-452c-9d61-0afa72dd93b6"
   },
   "source": [
    "7. Правда ли, что слуденты, чьи родители имеют высшее образование(College || Postgraduate), сдают экзамены лучше, чем остальные?"
   ]
  },
  {
   "cell_type": "code",
   "id": "d04e1904-f9f3-40bd-abbd-4d53ee9f7bd2",
   "metadata": {
    "colab": {
     "base_uri": "https://localhost:8080/"
    },
    "id": "d04e1904-f9f3-40bd-abbd-4d53ee9f7bd2",
    "outputId": "df4a7e82-1c3f-4dfb-e5c4-585d56721b1a",
    "ExecuteTime": {
     "end_time": "2024-09-18T21:39:45.456591Z",
     "start_time": "2024-09-18T21:39:45.429593Z"
    }
   },
   "source": [
    "students_with_degreed_parents = df[\n",
    "    (df['Parental_Education_Level'] == 'Postgraduate') | (df['Parental_Education_Level'] == 'College')\n",
    "]\n",
    "\n",
    "students_with_not_degreed_parents = df[\n",
    "    (df['Parental_Education_Level'] != 'Postgraduate') & (df['Parental_Education_Level'] != 'College')\n",
    "]\n",
    "\n",
    "students_with_degreed_parents_mean = (\n",
    "    students_with_degreed_parents['Exam_Score'] + students_with_degreed_parents['Previous_Scores']\n",
    ").mean()\n",
    "\n",
    "students_with_not_degreed_parents_mean = (\n",
    "    students_with_not_degreed_parents['Exam_Score'] + students_with_not_degreed_parents['Previous_Scores']\n",
    ").mean()\n",
    "\n",
    "if students_with_degreed_parents_mean > students_with_not_degreed_parents_mean:\n",
    "  print('Да')\n",
    "else:\n",
    "  print('Нет')"
   ],
   "outputs": [
    {
     "name": "stdout",
     "output_type": "stream",
     "text": [
      "Да\n"
     ]
    }
   ],
   "execution_count": 12
  },
  {
   "cell_type": "markdown",
   "id": "1d447d6e-cfde-411c-9078-cd8f41f02d8b",
   "metadata": {
    "id": "1d447d6e-cfde-411c-9078-cd8f41f02d8b"
   },
   "source": [
    "8. Как влияет участие родителей на результаты экзаменов"
   ]
  },
  {
   "cell_type": "code",
   "id": "b30df6b1-5eca-43da-a115-1c1a3cbfd899",
   "metadata": {
    "id": "b30df6b1-5eca-43da-a115-1c1a3cbfd899",
    "colab": {
     "base_uri": "https://localhost:8080/"
    },
    "outputId": "2b8a3f50-4006-4dd5-bdd8-13645f7f29e5",
    "ExecuteTime": {
     "end_time": "2024-09-18T21:39:53.319286Z",
     "start_time": "2024-09-18T21:39:53.300278Z"
    }
   },
   "source": [
    "df['Numeric_Parental_Involvement'] = df['Parental_Involvement'].map(\n",
    "    {\n",
    "        'Low': 0,\n",
    "        'Medium': 1,\n",
    "        'High': 2\n",
    "    }\n",
    ")\n",
    "\n",
    "correlation = df['Numeric_Parental_Involvement'].corr(df['Exam_Score'] + df['Previous_Scores'])\n",
    "print(correlation)\n",
    "\n",
    "#Значение коэффициента корреляции: 0.019781009263842072, очень слабая положительная корреляция\n",
    "\n",
    "#Вывод: В семьях, где родители принимали участие в образовании ребёнка,\n",
    "#дети практически не имеют преимущества в баллах перед детьми из других семей"
   ],
   "outputs": [
    {
     "name": "stdout",
     "output_type": "stream",
     "text": [
      "0.019781009263842065\n"
     ]
    }
   ],
   "execution_count": 13
  },
  {
   "cell_type": "markdown",
   "id": "c41d5d99-65f7-4d17-82ae-971ec959f327",
   "metadata": {
    "id": "c41d5d99-65f7-4d17-82ae-971ec959f327"
   },
   "source": [
    "9. Правда ли, что в семьях с доходом больше среднего дети сдают экзамены лучше?"
   ]
  },
  {
   "cell_type": "code",
   "execution_count": null,
   "id": "275bcc04-659b-4521-a9e5-200a5f4ef674",
   "metadata": {
    "id": "275bcc04-659b-4521-a9e5-200a5f4ef674",
    "colab": {
     "base_uri": "https://localhost:8080/"
    },
    "outputId": "e26144aa-7bfb-42cc-afa9-f3680fa728e8"
   },
   "outputs": [
    {
     "output_type": "stream",
     "name": "stdout",
     "text": [
      "Да\n"
     ]
    }
   ],
   "source": [
    "students_with_high_family_income_df = df[df['Family_Income'] == 'High']\n",
    "students_with_not_high_family_income_df = df[df['Family_Income'] != 'High']\n",
    "\n",
    "high_income_mean = (\n",
    "    students_with_high_family_income_df['Exam_Score'] + students_with_high_family_income_df['Previous_Scores']\n",
    ").mean()\n",
    "\n",
    "not_high_income_mean = (\n",
    "    students_with_not_high_family_income_df['Exam_Score'] + students_with_not_high_family_income_df['Previous_Scores']\n",
    ").mean()\n",
    "\n",
    "if high_income_mean > not_high_income_mean:\n",
    "  print('Да')\n",
    "else:\n",
    "  print('Нет')"
   ]
  },
  {
   "cell_type": "markdown",
   "id": "a1f7a5c0-259c-4837-a5d1-2dfc05e7c13e",
   "metadata": {
    "id": "a1f7a5c0-259c-4837-a5d1-2dfc05e7c13e"
   },
   "source": [
    "10. Посчитайте долю студентов сдавших экзамен на более чем 70 баллов в семьях с низким доходом и отсутствием доступа к интернету"
   ]
  },
  {
   "cell_type": "code",
   "id": "a2da4d57-edb4-4179-8bee-3deda6cd00e6",
   "metadata": {
    "id": "a2da4d57-edb4-4179-8bee-3deda6cd00e6",
    "colab": {
     "base_uri": "https://localhost:8080/"
    },
    "outputId": "562d4685-194f-4cc3-87dc-fa4c6047fa9c",
    "ExecuteTime": {
     "end_time": "2024-09-18T21:40:05.571648Z",
     "start_time": "2024-09-18T21:40:05.548652Z"
    }
   },
   "source": [
    "df[(df['Exam_Score'] > 70) & (df['Family_Income'] == 'Low') & (df['Internet_Access'] == 'No')].shape[0] / df.shape[0]"
   ],
   "outputs": [
    {
     "data": {
      "text/plain": [
       "0.002573028606023914"
      ]
     },
     "execution_count": 14,
     "metadata": {},
     "output_type": "execute_result"
    }
   ],
   "execution_count": 14
  },
  {
   "cell_type": "markdown",
   "id": "deb4ca3a-3d8a-4205-bee9-d26fd28638b2",
   "metadata": {
    "id": "deb4ca3a-3d8a-4205-bee9-d26fd28638b2"
   },
   "source": [
    "### 3. Визуализация"
   ]
  },
  {
   "cell_type": "markdown",
   "id": "f8941ce1-cbf2-465a-b013-1b84aeb999ef",
   "metadata": {
    "id": "f8941ce1-cbf2-465a-b013-1b84aeb999ef"
   },
   "source": [
    "Используя библиотеки matplotlib/sns/plotly/pandas и набор данных представленный ранее визуализируйте"
   ]
  },
  {
   "cell_type": "code",
   "source": [
    "import matplotlib.pyplot as plt\n",
    "import seaborn as sb\n",
    "from scipy.stats import norm"
   ],
   "metadata": {
    "id": "_QtOGIskvF2u",
    "ExecuteTime": {
     "end_time": "2024-09-24T12:01:46.375861Z",
     "start_time": "2024-09-24T12:01:46.354866Z"
    }
   },
   "id": "_QtOGIskvF2u",
   "outputs": [],
   "execution_count": 8
  },
  {
   "cell_type": "markdown",
   "id": "5e98ce6f-8d02-4120-ad85-241494c038d6",
   "metadata": {
    "id": "5e98ce6f-8d02-4120-ad85-241494c038d6"
   },
   "source": [
    "1. Правда ли, что количество часов затрачиваемых на сон распределено примерно нормально?"
   ]
  },
  {
   "cell_type": "code",
   "id": "664666b2-17b7-49dd-a3bd-c4be9361755d",
   "metadata": {
    "id": "664666b2-17b7-49dd-a3bd-c4be9361755d",
    "colab": {
     "base_uri": "https://localhost:8080/",
     "height": 450
    },
    "outputId": "e6c9e5c6-f497-4327-a0cc-5d30ffde0cab",
    "ExecuteTime": {
     "end_time": "2024-09-18T21:47:05.208171Z",
     "start_time": "2024-09-18T21:47:04.679429Z"
    }
   },
   "source": [
    "sleep_hours_min, sleep_hours_max = (df['Sleep_Hours'].min(), df['Sleep_Hours'].max())\n",
    "\n",
    "x = np.linspace(sleep_hours_min, sleep_hours_max, 100)\n",
    "\n",
    "#Плотность вероятности нормального распределения\n",
    "y = norm.pdf(x, df['Sleep_Hours'].mean(), df['Sleep_Hours'].std())\n",
    "\n",
    "#Гистограмма распределения часов, затрачиваемых на обучение\n",
    "sb.histplot(df['Sleep_Hours'], stat='probability', color='lightblue')\n",
    "\n",
    "plt.plot(x, y, 'r')\n",
    "\n",
    "plt.show()\n",
    "\n",
    "#Из графика видим, что распределение часов, затраченных на сон примерно нормально\n",
    "#Ответ: да"
   ],
   "outputs": [
    {
     "data": {
      "text/plain": [
       "<Figure size 640x480 with 1 Axes>"
      ],
      "image/png": "[encoded data removed]"
     },
     "metadata": {},
     "output_type": "display_data"
    }
   ],
   "execution_count": 16
  },
  {
   "cell_type": "markdown",
   "id": "4c7500bb-36ca-4ea7-bc3c-4f15afbd4c41",
   "metadata": {
    "id": "4c7500bb-36ca-4ea7-bc3c-4f15afbd4c41"
   },
   "source": [
    "2. Постройте гистограмму распределения количества часов затрачиваемых на обучение среди мальчиков и девочек"
   ]
  },
  {
   "cell_type": "code",
   "id": "7325e7f8-5f00-4a82-8184-7064505f7ccd",
   "metadata": {
    "id": "7325e7f8-5f00-4a82-8184-7064505f7ccd",
    "colab": {
     "base_uri": "https://localhost:8080/",
     "height": 450
    },
    "outputId": "b67456b9-bc78-4bf7-b5d6-ee4c29f27cb4",
    "ExecuteTime": {
     "end_time": "2024-09-24T12:46:41.037609Z",
     "start_time": "2024-09-24T12:46:40.207529Z"
    }
   },
   "source": [
    "male_df = df[df['Gender'] == 'Male']\n",
    "female_df = df[df['Gender'] == 'Female']\n",
    "\n",
    "#Массив значений количества часов, уделяемых на учёбу\n",
    "bins = np.arange(0, df['Hours_Studied'].max() + 1, 1)\n",
    "\n",
    "#Массивы количества мужчин и женщин, тратящих на учёбу i часов\n",
    "male_counts, _ = np.histogram(male_df['Hours_Studied'], bins=bins)\n",
    "female_counts, _ = np.histogram(female_df['Hours_Studied'], bins=bins)\n",
    "\n",
    "plt.bar(bins[:-1], male_counts, width=1, label='Male', edgecolor='black')\n",
    "plt.bar(bins[:-1], female_counts, width=1, label='Female', edgecolor='black')\n",
    "\n",
    "plt.legend()\n",
    "plt.xlabel(\"Hours Studied\")\n",
    "plt.ylabel(\"Count\")\n",
    "\n",
    "plt.show()"
   ],
   "outputs": [
    {
     "data": {
      "text/plain": [
       "<Figure size 640x480 with 1 Axes>"
      ],
      "image/png": "[encoded data removed]"
     },
     "metadata": {},
     "output_type": "display_data"
    }
   ],
   "execution_count": 63
  },
  {
   "cell_type": "markdown",
   "id": "efdd0669-36e0-4708-ac6b-ad0d92881113",
   "metadata": {
    "id": "efdd0669-36e0-4708-ac6b-ad0d92881113"
   },
   "source": [
    "3. Как зависит результат конечного экзамена от результата первого экзамена"
   ]
  },
  {
   "cell_type": "code",
   "execution_count": 39,
   "id": "7504a170-04a1-4b86-924d-8d46be16fd3c",
   "metadata": {
    "id": "7504a170-04a1-4b86-924d-8d46be16fd3c",
    "colab": {
     "base_uri": "https://localhost:8080/",
     "height": 450
    },
    "outputId": "259d34a4-643c-4ca3-9818-93f0c2200861"
   },
   "outputs": [
    {
     "output_type": "display_data",
     "data": {
      "text/plain": [
       "<Figure size 640x480 with 1 Axes>"
      ],
      "image/png": "[encoded data removed]"
     },
     "metadata": {}
    }
   ],
   "source": [
    "plt.scatter(df['Previous_Scores'], df['Exam_Score'], s = 10)\n",
    "plt.xlabel('Previous_Scores')\n",
    "plt.ylabel('Exam_Score')\n",
    "plt.show()\n",
    "\n",
    "#По полученному графику можем наблюдать слабую положительную корреляцию\n",
    "#Она выражена в том, что студенты с высокими результатами за первый экзамен\n",
    "#получают за первый экзамен баллы немного выше остальных студентов"
   ]
  },
  {
   "cell_type": "markdown",
   "id": "b5839a48-e992-45fc-81ee-59cb5aa79dda",
   "metadata": {
    "id": "b5839a48-e992-45fc-81ee-59cb5aa79dda"
   },
   "source": [
    "4. Постройте box plot отображающий распределение количества сна детей сдавших экзамены на оценку ниже и выше 85 баллов"
   ]
  },
  {
   "cell_type": "code",
   "execution_count": 73,
   "id": "1a942378-45ea-47a0-bac9-488960491613",
   "metadata": {
    "id": "1a942378-45ea-47a0-bac9-488960491613",
    "colab": {
     "base_uri": "https://localhost:8080/",
     "height": 430
    },
    "outputId": "a9833199-89e0-4de4-8121-daee8ceb8a5b"
   },
   "outputs": [
    {
     "output_type": "display_data",
     "data": {
      "text/plain": [
       "<Figure size 640x480 with 1 Axes>"
      ],
      "image/png": "[encoded data removed]"
     },
     "metadata": {}
    }
   ],
   "source": [
    "low_exam_score_sleep_hours = df[df['Exam_Score'] + df['Previous_Scores'] < 85]['Sleep_Hours']\n",
    "high_exam_score_sleep_hours = df[df['Exam_Score'] + df['Previous_Scores' ] > 85]['Sleep_Hours']\n",
    "\n",
    "data = [low_exam_score_sleep_hours, high_exam_score_sleep_hours]\n",
    "labels = ['< 85', '> 85']\n",
    "\n",
    "plt.boxplot(data, labels=labels)\n",
    "\n",
    "plt.show()"
   ]
  },
  {
   "cell_type": "markdown",
   "id": "d4c97bef-bb64-43cc-a89f-7510174492ec",
   "metadata": {
    "id": "d4c97bef-bb64-43cc-a89f-7510174492ec"
   },
   "source": [
    "5. Правда ли, что количество посещаемых занятий с репетитором в месяц напрямую влияет на балл в конечном экзамене?"
   ]
  },
  {
   "cell_type": "code",
   "execution_count": 78,
   "id": "a1f444af-3544-432c-8dc6-bb74d4cff272",
   "metadata": {
    "id": "a1f444af-3544-432c-8dc6-bb74d4cff272",
    "colab": {
     "base_uri": "https://localhost:8080/",
     "height": 450
    },
    "outputId": "6b55da36-46fc-429e-d674-9a39f091340d"
   },
   "outputs": [
    {
     "output_type": "display_data",
     "data": {
      "text/plain": [
       "<Figure size 640x480 with 1 Axes>"
      ],
      "image/png": "[encoded data removed]"
     },
     "metadata": {}
    }
   ],
   "source": [
    "plt.scatter(df['Tutoring_Sessions'], df['Exam_Score'])\n",
    "plt.xlabel('Tutoring_Sessions')\n",
    "plt.ylabel('Exam_Score')\n",
    "plt.show()\n",
    "\n",
    "#Из графика видим слабую положительную корреляцию\n",
    "\n",
    "#Ответ: нет"
   ]
  },
  {
   "cell_type": "markdown",
   "id": "16249674-e680-4ab0-a16a-4e98c24202ed",
   "metadata": {
    "id": "16249674-e680-4ab0-a16a-4e98c24202ed"
   },
   "source": [
    "6. Как физическая активность влияет на успеваемость?"
   ]
  },
  {
   "cell_type": "code",
   "execution_count": 82,
   "id": "5d1f5e09-3f97-45ad-87f8-c9796cc214db",
   "metadata": {
    "id": "5d1f5e09-3f97-45ad-87f8-c9796cc214db",
    "colab": {
     "base_uri": "https://localhost:8080/",
     "height": 454
    },
    "outputId": "f81e1218-bbbf-4ed8-f5c8-9a834b3236e1"
   },
   "outputs": [
    {
     "output_type": "display_data",
     "data": {
      "text/plain": [
       "<Figure size 640x480 with 1 Axes>"
      ],
      "image/png": "[encoded data removed]"
     },
     "metadata": {}
    }
   ],
   "source": [
    "plt.scatter(df['Physical_Activity'], df['Exam_Score'] + df['Previous_Scores'], s=8)\n",
    "plt.xlabel('Physical_Activity')\n",
    "plt.ylabel('Grade')\n",
    "plt.show()\n",
    "\n",
    "#Из графика видна очень слабая корреляция\n",
    "\n",
    "#Ответ: никак"
   ]
  },
  {
   "cell_type": "markdown",
   "id": "16afdeec-8c90-4ed1-a599-e0b1343bbf5c",
   "metadata": {
    "id": "16afdeec-8c90-4ed1-a599-e0b1343bbf5c"
   },
   "source": [
    "7. Постройте HeatMap где ось Х - процент посещаемость, Y - количество занятий с репетитором, а Z - балл за итоговый экзамен*\n",
    "\n",
    "\\* Задание на доп. балл"
   ]
  },
  {
   "cell_type": "code",
   "id": "e10d0cc7-a1ca-4204-a875-b1660e44618d",
   "metadata": {
    "id": "e10d0cc7-a1ca-4204-a875-b1660e44618d",
    "colab": {
     "base_uri": "https://localhost:8080/",
     "height": 467
    },
    "outputId": "dbd5dba1-6c10-448f-bfab-fac28f07df17",
    "ExecuteTime": {
     "end_time": "2024-09-18T21:52:46.532434Z",
     "start_time": "2024-09-18T21:52:46.021201Z"
    }
   },
   "source": [
    "preprocessed_df = df.groupby(['Tutoring_Sessions', 'Attendance'])['Exam_Score'].mean().reset_index()\n",
    "\n",
    "pivotted = preprocessed_df.pivot(index='Tutoring_Sessions', columns='Attendance', values='Exam_Score')\n",
    "\n",
    "sb.heatmap(pivotted, cmap='PRGn', cbar_kws={'label': 'Средний балл за итоговый экзамен'})\n",
    "\n",
    "plt.xlabel('Количество занятий с репетитором в месяц')\n",
    "plt.ylabel('Процент посещённых занятий')\n",
    "plt.show()"
   ],
   "outputs": [
    {
     "data": {
      "text/plain": [
       "<Figure size 640x480 with 2 Axes>"
      ],
      "image/png": "[encoded data removed]"
     },
     "metadata": {},
     "output_type": "display_data"
    }
   ],
   "execution_count": 20
  }
 ],
 "metadata": {
  "kernelspec": {
   "display_name": "Python 3 (ipykernel)",
   "language": "python",
   "name": "python3"
  },
  "language_info": {
   "codemirror_mode": {
    "name": "ipython",
    "version": 3
   },
   "file_extension": ".py",
   "mimetype": "text/x-python",
   "name": "python",
   "nbconvert_exporter": "python",
   "pygments_lexer": "ipython3",
   "version": "3.11.7"
  },
  "colab": {
   "provenance": []
  }
 },
 "nbformat": 4,
 "nbformat_minor": 5
}
